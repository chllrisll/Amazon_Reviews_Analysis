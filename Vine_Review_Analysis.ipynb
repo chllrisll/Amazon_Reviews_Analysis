{
  "nbformat": 4,
  "nbformat_minor": 0,
  "metadata": {
    "colab": {
      "name": "Vine_Review_Analysis.ipynb",
      "provenance": [],
      "collapsed_sections": []
    },
    "kernelspec": {
      "name": "python3",
      "display_name": "Python 3"
    },
    "language_info": {
      "name": "python"
    }
  },
  "cells": [
    {
      "cell_type": "code",
      "source": [
        "# Store environmental variable\n",
        "from getpass import getpass\n",
        "password = getpass('Enter database password')\n",
        "# Configure settings for RDS\n",
        "mode = \"append\"\n",
        "jdbc_url=\"jdbc:postgresql://dataviz.c8bvxdjysbw2.us-east-1.rds.amazonaws.com:5432/app_reviews\"\n",
        "config = {\"user\":\"postgres\",\n",
        "          \"password\": password,\n",
        "          \"driver\":\"org.postgresql.Driver\"}"
      ],
      "metadata": {
        "colab": {
          "base_uri": "https://localhost:8080/"
        },
        "id": "ffq_66ViZ0YY",
        "outputId": "ed0bf4e2-cb80-44eb-d1fc-51472b3469b9"
      },
      "execution_count": 1,
      "outputs": [
        {
          "name": "stdout",
          "output_type": "stream",
          "text": [
            "Enter database password··········\n"
          ]
        }
      ]
    },
    {
      "cell_type": "code",
      "source": [
        "import os\n",
        "# Find the latest version of spark 3.0  from http://www.apache.org/dist/spark/ and enter as the spark version\n",
        "# For example:\n",
        "# spark_version = 'spark-3.0.3'\n",
        "spark_version = 'spark-3.0.3'\n",
        "os.environ['SPARK_VERSION']=spark_version\n",
        "\n",
        "# Install Spark and Java\n",
        "!apt-get update\n",
        "!apt-get install openjdk-11-jdk-headless -qq > /dev/null\n",
        "!wget -q http://www.apache.org/dist/spark/$SPARK_VERSION/$SPARK_VERSION-bin-hadoop2.7.tgz\n",
        "!tar xf $SPARK_VERSION-bin-hadoop2.7.tgz\n",
        "!pip install -q findspark\n",
        "\n",
        "# Set Environment Variables\n",
        "import os\n",
        "os.environ[\"JAVA_HOME\"] = \"/usr/lib/jvm/java-11-openjdk-amd64\"\n",
        "os.environ[\"SPARK_HOME\"] = f\"/content/{spark_version}-bin-hadoop2.7\"\n",
        "\n",
        "# Start a SparkSession\n",
        "import findspark\n",
        "findspark.init()"
      ],
      "metadata": {
        "colab": {
          "base_uri": "https://localhost:8080/"
        },
        "id": "SqZ79zWraZm9",
        "outputId": "ae9821a2-3fbb-4d41-99e4-96dd599e3db9"
      },
      "execution_count": 2,
      "outputs": [
        {
          "output_type": "stream",
          "name": "stdout",
          "text": [
            "\r0% [Working]\r            \rHit:1 https://cloud.r-project.org/bin/linux/ubuntu bionic-cran40/ InRelease\n",
            "\r0% [Connecting to archive.ubuntu.com (91.189.88.142)] [Waiting for headers] [Wa\r                                                                               \rIgn:2 https://developer.download.nvidia.com/compute/cuda/repos/ubuntu1804/x86_64  InRelease\n",
            "\r0% [Connecting to archive.ubuntu.com (91.189.88.142)] [Waiting for headers] [Wa\r0% [1 InRelease gpgv 3,626 B] [Connecting to archive.ubuntu.com (91.189.88.142)\r                                                                               \rHit:3 http://ppa.launchpad.net/c2d4u.team/c2d4u4.0+/ubuntu bionic InRelease\n",
            "Hit:4 http://security.ubuntu.com/ubuntu bionic-security InRelease\n",
            "Ign:5 https://developer.download.nvidia.com/compute/machine-learning/repos/ubuntu1804/x86_64  InRelease\n",
            "Hit:6 https://developer.download.nvidia.com/compute/cuda/repos/ubuntu1804/x86_64  Release\n",
            "Hit:7 https://developer.download.nvidia.com/compute/machine-learning/repos/ubuntu1804/x86_64  Release\n",
            "Hit:8 http://archive.ubuntu.com/ubuntu bionic InRelease\n",
            "Hit:9 http://archive.ubuntu.com/ubuntu bionic-updates InRelease\n",
            "Hit:10 http://ppa.launchpad.net/cran/libgit2/ubuntu bionic InRelease\n",
            "Hit:11 http://archive.ubuntu.com/ubuntu bionic-backports InRelease\n",
            "Hit:12 http://ppa.launchpad.net/deadsnakes/ppa/ubuntu bionic InRelease\n",
            "Hit:13 http://ppa.launchpad.net/graphics-drivers/ppa/ubuntu bionic InRelease\n",
            "Reading package lists... Done\n"
          ]
        }
      ]
    },
    {
      "cell_type": "code",
      "source": [
        "# Download the Postgres driver that will allow Spark to interact with Postgres.\n",
        "!wget https://jdbc.postgresql.org/download/postgresql-42.2.9.jar"
      ],
      "metadata": {
        "colab": {
          "base_uri": "https://localhost:8080/"
        },
        "id": "fgVUI-GNacn8",
        "outputId": "f61abc94-1916-40b3-8036-b9c0b8d4027b"
      },
      "execution_count": 3,
      "outputs": [
        {
          "output_type": "stream",
          "name": "stdout",
          "text": [
            "--2022-02-15 08:15:39--  https://jdbc.postgresql.org/download/postgresql-42.2.9.jar\n",
            "Resolving jdbc.postgresql.org (jdbc.postgresql.org)... 72.32.157.228, 2001:4800:3e1:1::228\n",
            "Connecting to jdbc.postgresql.org (jdbc.postgresql.org)|72.32.157.228|:443... connected.\n",
            "HTTP request sent, awaiting response... 200 OK\n",
            "Length: 914037 (893K) [application/java-archive]\n",
            "Saving to: ‘postgresql-42.2.9.jar’\n",
            "\n",
            "postgresql-42.2.9.j 100%[===================>] 892.61K  --.-KB/s    in 0.1s    \n",
            "\n",
            "2022-02-15 08:15:40 (5.84 MB/s) - ‘postgresql-42.2.9.jar’ saved [914037/914037]\n",
            "\n"
          ]
        }
      ]
    },
    {
      "cell_type": "code",
      "source": [
        "from pyspark.sql import SparkSession\n",
        "spark = SparkSession.builder.appName(\"M16_Amazon-Challenge\").config(\"spark.driver.extraClassPath\",\"/content/postgresql-42.2.9.jar\").getOrCreate()"
      ],
      "metadata": {
        "id": "6qLeykDbajbG"
      },
      "execution_count": 4,
      "outputs": []
    },
    {
      "cell_type": "code",
      "source": [
        "from pyspark import SparkFiles\n",
        "url = \"https://s3.amazonaws.com/amazon-reviews-pds/tsv/amazon_reviews_us_Mobile_Electronics_v1_00.tsv.gz\"\n",
        "spark.sparkContext.addFile(url)\n",
        "mobile_app_df = spark.read.option(\"encoding\", \"UTF-8\").csv(SparkFiles.get(\"amazon_reviews_us_Mobile_Electronics_v1_00.tsv.gz\"), sep=\"\\t\", header=True, inferSchema=True)\n",
        "mobile_app_df.show()\n",
        "\n",
        "mobile_app_df.printSchema()"
      ],
      "metadata": {
        "colab": {
          "base_uri": "https://localhost:8080/"
        },
        "id": "1PDVDWeHamKK",
        "outputId": "9f38623f-7d60-4122-f266-4dee349f4d58"
      },
      "execution_count": 5,
      "outputs": [
        {
          "output_type": "stream",
          "name": "stdout",
          "text": [
            "+-----------+-----------+--------------+----------+--------------+--------------------+------------------+-----------+-------------+-----------+----+-----------------+--------------------+--------------------+-----------+\n",
            "|marketplace|customer_id|     review_id|product_id|product_parent|       product_title|  product_category|star_rating|helpful_votes|total_votes|vine|verified_purchase|     review_headline|         review_body|review_date|\n",
            "+-----------+-----------+--------------+----------+--------------+--------------------+------------------+-----------+-------------+-----------+----+-----------------+--------------------+--------------------+-----------+\n",
            "|         US|   20422322| R8MEA6IGAHO0B|B00MC4CED8|     217304173|BlackVue DR600GW-PMP|Mobile_Electronics|          5|            0|          0|   N|                Y|         Very Happy!|As advertised. Ev...| 2015-08-31|\n",
            "|         US|   40835037|R31LOQ8JGLPRLK|B00OQMFG1Q|     137313254|GENSSI GSM / GPS ...|Mobile_Electronics|          5|            0|          1|   N|                Y|           five star|          it's great| 2015-08-31|\n",
            "|         US|   51469641|R2Y0MM9YE6OP3P|B00QERR5CY|      82850235|iXCC Multi pack L...|Mobile_Electronics|          5|            0|          0|   N|                Y|        great cables|These work great ...| 2015-08-31|\n",
            "|         US|    4332923| RRB9C05HDOD4O|B00QUFTPV4|     221169481|abcGoodefg® FBI C...|Mobile_Electronics|          4|            0|          0|   N|                Y|Work very well bu...|Work very well bu...| 2015-08-31|\n",
            "|         US|   44855305|R26I2RI1GFV8QG|B0067XVNTG|     563475445|Generic Car Dashb...|Mobile_Electronics|          2|            0|          0|   N|                Y|Cameras has batte...|Be careful with t...| 2015-08-31|\n",
            "|         US|    7846966| RY8DDL22YG4R5|B00KA6CCVY|     713636156|Aweek® Air Acoust...|Mobile_Electronics|          3|            0|          1|   N|                Y|It appears to be ...|It appears to be ...| 2015-08-31|\n",
            "|         US|   21299354|R2AT2426ZHFUHH|B00MJCDPM2|     754171872|Sentey LS-4460 B-...|Mobile_Electronics|          3|            0|          1|   N|                Y|Didn't love the f...|First one arrived...| 2015-08-31|\n",
            "|         US|   28902968|R3RRXU2R23NMQ9|B00ET5AWBY|     508373185|iPad Car Headrest...|Mobile_Electronics|          5|            0|          0|   N|                Y|          Five Stars|Worked great for ...| 2015-08-31|\n",
            "|         US|    2074438|R250PR8VJUZ62F|B00Z9K379C|     759387370|ANWING Waterproof...|Mobile_Electronics|          4|            0|          2|   N|                Y|          Four Stars|this is a very go...| 2015-08-31|\n",
            "|         US|   48701722| RBEMQ29WJBHYG|B00YO3UYXW|     913911909|Jensen MCR-100 Ca...|Mobile_Electronics|          5|          164|        168|   N|                Y|  I LOVE my recorder|I LOVE my recorde...| 2015-08-31|\n",
            "|         US|    2990247|R19VVIUT4BZCMT|B011W26BU2|     938399424|Bluetooth Speaker...|Mobile_Electronics|          5|            2|          2|   N|                Y|          Five Stars|Great sound great...| 2015-08-31|\n",
            "|         US|   52946117|R1DT8JJUQHUKUL|B00H8PI78C|     661515294|15Pcs DC 5V 85dB ...|Mobile_Electronics|          3|            0|          1|   N|                Y|More of a beeper ...|If what you want ...| 2015-08-31|\n",
            "|         US|   49359994| RLIL6S9OGM3YA|B00M49C6MK|      91176851|      Sentey Ls 4162|Mobile_Electronics|          5|            0|          0|   N|                Y|          Five Stars|             Love it| 2015-08-31|\n",
            "|         US|    4158732|R34EZZ68VYPHO0|B011Q291PK|     891142775|IcePACK 8 Can Ins...|Mobile_Electronics|          1|            1|          1|   N|                Y|            One Star|               Sucks| 2015-08-31|\n",
            "|         US|   18944032|R3TZNSOXS13SIG|B00W6OLUGQ|     577462547|DTK® AMI MDI MMI ...|Mobile_Electronics|          2|            1|          3|   N|                Y|           Two Stars|u need to plug in...| 2015-08-31|\n",
            "|         US|     279606|R12UBZT87UX3AP|B008MY1F8W|     680240984|INPA K+CAN K+DCAN...|Mobile_Electronics|          5|            2|          2|   N|                Y|          Five Stars|Worked with MHD F...| 2015-08-31|\n",
            "|         US|   10947966| R5KCRE927NYMU|B00KW3XNUE|     219920841|Magicfly Wireless...|Mobile_Electronics|          2|            0|          0|   N|                N|Battery Cover Poo...|Just arrived,  re...| 2015-08-31|\n",
            "|         US|   18387442| RT12RQFU0V2AX|B009NGR0AK|     254898339|Humminbird XNT 9 ...|Mobile_Electronics|          5|            1|          1|   N|                Y|        Works great.|I bought this uni...| 2015-08-31|\n",
            "|         US|   48950322|R2K0YQPV5W2SJ1|B011W26BU2|     938399424|Bluetooth Speaker...|Mobile_Electronics|          4|            2|          2|   N|                Y|A Lot of Sound In...|I am giving the s...| 2015-08-31|\n",
            "|         US|   48148197|R104MY31OKNGXH|B00PAP68WO|     366592530|Foxnovo 3.7V 380m...|Mobile_Electronics|          5|            0|          0|   N|                Y|          Five Stars|Met my applicatio...| 2015-08-31|\n",
            "+-----------+-----------+--------------+----------+--------------+--------------------+------------------+-----------+-------------+-----------+----+-----------------+--------------------+--------------------+-----------+\n",
            "only showing top 20 rows\n",
            "\n",
            "root\n",
            " |-- marketplace: string (nullable = true)\n",
            " |-- customer_id: integer (nullable = true)\n",
            " |-- review_id: string (nullable = true)\n",
            " |-- product_id: string (nullable = true)\n",
            " |-- product_parent: integer (nullable = true)\n",
            " |-- product_title: string (nullable = true)\n",
            " |-- product_category: string (nullable = true)\n",
            " |-- star_rating: integer (nullable = true)\n",
            " |-- helpful_votes: integer (nullable = true)\n",
            " |-- total_votes: integer (nullable = true)\n",
            " |-- vine: string (nullable = true)\n",
            " |-- verified_purchase: string (nullable = true)\n",
            " |-- review_headline: string (nullable = true)\n",
            " |-- review_body: string (nullable = true)\n",
            " |-- review_date: string (nullable = true)\n",
            "\n"
          ]
        }
      ]
    },
    {
      "cell_type": "code",
      "source": [
        "from pyspark.sql.functions import to_date\n",
        "# Read in the Review dataset as a DataFrame\n",
        "# ^^ "
      ],
      "metadata": {
        "id": "UfUCzIANbDnV"
      },
      "execution_count": 6,
      "outputs": []
    },
    {
      "cell_type": "code",
      "source": [
        "# Create the customers_table DataFrame\n",
        "#customers_df = df.groupby(\"customer_id\").agg({\"customer_id\":\"count\"}).withColumnRenamed(\"count(customer_id)\", \"customer_count\")\n",
        "#customers_df.show()"
      ],
      "metadata": {
        "id": "eZ4dfWfkbUkR"
      },
      "execution_count": 7,
      "outputs": []
    },
    {
      "cell_type": "code",
      "source": [
        "#1.) #Create a total_votes df\n",
        "total_votes_df = mobile_app_df.filter(\"total_votes>=20\")\n",
        "total_votes_df.show()\n",
        "\n"
      ],
      "metadata": {
        "colab": {
          "base_uri": "https://localhost:8080/"
        },
        "id": "PjeDaHlhZ2Gx",
        "outputId": "78435a98-4184-45b0-8fd6-094c688e115d"
      },
      "execution_count": 7,
      "outputs": [
        {
          "output_type": "stream",
          "name": "stdout",
          "text": [
            "+-----------+-----------+--------------+----------+--------------+--------------------+------------------+-----------+-------------+-----------+----+-----------------+--------------------+--------------------+-----------+\n",
            "|marketplace|customer_id|     review_id|product_id|product_parent|       product_title|  product_category|star_rating|helpful_votes|total_votes|vine|verified_purchase|     review_headline|         review_body|review_date|\n",
            "+-----------+-----------+--------------+----------+--------------+--------------------+------------------+-----------+-------------+-----------+----+-----------------+--------------------+--------------------+-----------+\n",
            "|         US|   48701722| RBEMQ29WJBHYG|B00YO3UYXW|     913911909|Jensen MCR-100 Ca...|Mobile_Electronics|          5|          164|        168|   N|                Y|  I LOVE my recorder|I LOVE my recorde...| 2015-08-31|\n",
            "|         US|   40963441|R2JK5Y8D5MXAGP|B00SU7B0JK|      82850235|iXCC Multi pack L...|Mobile_Electronics|          1|            5|        121|   N|                Y|Buyer Beware - Ca...|I've bought a lot...| 2015-08-30|\n",
            "|         US|   25750755|R13W3EMIUV120L|B00YO3UYXW|     913911909|Jensen MCR-100 Ca...|Mobile_Electronics|          4|          288|        294|   N|                Y|The Jensen MCR-10...|I recently purcha...| 2015-08-28|\n",
            "|         US|   26155827|R30TJ8POYNVCRE|B00TQ0G130|       9677699|Coby ALL NEW 2.5\"...|Mobile_Electronics|          5|           15|         21|   N|                N|            dash cam|Great product, lo...| 2015-08-27|\n",
            "|         US|   23616875|R1H5Y9Z2DHRNVO|B00LAG4HN4|     536367292|iXCC Element II L...|Mobile_Electronics|          1|            4|         95|   N|                Y|Great design, Ter...|I wanted to love ...| 2015-08-26|\n",
            "|         US|   29092404|R1LK03P7BCJEJD|B00YO3UYXW|     913911909|Jensen MCR-100 Ca...|Mobile_Electronics|          1|           31|         35|   N|                Y|            One Star|Playback is disto...| 2015-08-22|\n",
            "|         US|   33177916| RBXUICKGHL685|B00YO3UYXW|     913911909|Jensen MCR-100 Ca...|Mobile_Electronics|          1|           48|         52|   N|                N|Chewed up within ...|Terrible!!  Chewe...| 2015-08-21|\n",
            "|         US|   42331191|R2E16WLZKP78GO|B00TQYCU0Y|     328706129|Garmin nüvi 65LM ...|Mobile_Electronics|          5|           19|         21|   N|                Y|           Satisfied|Garmin nuvi 65lm ...| 2015-08-20|\n",
            "|         US|    3913139|R1EN4PGQIFSENW|B00LAG4HN4|     536367292|iXCC Element II L...|Mobile_Electronics|          5|           27|         28|   N|                Y|I've bought 4 of ...|So we've all had ...| 2015-08-10|\n",
            "|         US|   43755322| RXZWQU66AHIYG|B00TQYEONA|     376434637|Garmin dezl 760LM...|Mobile_Electronics|          5|           24|         25|   N|                Y|THE BEST UNIT I H...|Today 8/10/2015 w...| 2015-08-10|\n",
            "|         US|   45886406|R2IXCZCSUKH8FB|B00CJZLHN8|     869734493|Apple Ipod Nano 7...|Mobile_Electronics|          3|           78|         82|   N|                Y|Still limited to ...|As many other rev...| 2015-08-04|\n",
            "|         US|    3120094|R25RB38U9LL8OE|B010W4OF4K|     649814137|Escort Passport X...|Mobile_Electronics|          5|           24|         29|   N|                Y|best radar detect...|We have owned man...| 2015-08-04|\n",
            "|         US|   21862658|R1Q0XK7VKU3EKX|B00J46XO9U|     744008282|iXCC Lightning Ca...|Mobile_Electronics|          1|            7|        130|   N|                Y|  I caught on fire!!|I plugged it on m...| 2015-07-25|\n",
            "|         US|   40159163| RSHPPH6BRXYRS|B00QMMBXA6|     827642739|Tomtom VIA 1515M ...|Mobile_Electronics|          2|           42|         48|   N|                N|     Not Recommended|This is my third ...| 2015-07-22|\n",
            "|         US|    6867529|R39HYCYEWFZP3B|B00Y2100OO|     161663398|LiteXim All in On...|Mobile_Electronics|          5|           36|         36|   N|                N|Awesome mp3/mp4 P...|[[VIDEOID:1a66cff...| 2015-07-22|\n",
            "|         US|   26362086|R2C68DIKTG0M7W|B00TQYCU0Y|     328706129|Garmin nüvi 65LM ...|Mobile_Electronics|          5|           18|         20|   N|                Y|      Love this GPS!|I have only used ...| 2015-07-20|\n",
            "|         US|   34123746|R2I6O4S2CZK8WQ|B00EDM5WV8|     998105706|SPOT-3O Spot Gen3...|Mobile_Electronics|          1|          175|        181|   N|                Y|Failed after firs...|I've had a spot t...| 2015-07-20|\n",
            "|         US|   18226253|R1EPU8R4MVRIQ7|B00XJJU4SC|     965917258|Juentai JT-6188 D...|Mobile_Electronics|          4|           21|         22|   N|                Y|Nice little dual ...|These are pretty ...| 2015-07-19|\n",
            "|         US|   52807030| RN55T65W485LS|B00VU7PGPQ|     973149575|[New Element Seri...|Mobile_Electronics|          1|            5|        222|   N|                N|Visually looks go...|I've never writte...| 2015-07-15|\n",
            "|         US|   48531577|R1AL1OVEHNX5JC|B010P73G76|     995824709|Phtronics 2015 La...|Mobile_Electronics|          5|           19|         22|   N|                Y|This is a great m...|This is a great m...| 2015-07-15|\n",
            "+-----------+-----------+--------------+----------+--------------+--------------------+------------------+-----------+-------------+-----------+----+-----------------+--------------------+--------------------+-----------+\n",
            "only showing top 20 rows\n",
            "\n"
          ]
        }
      ]
    },
    {
      "cell_type": "code",
      "source": [
        "#2.) # Create a DataFrame to retrieve all rows of helpful_votes divided by total_votes is equal to or greater than 50%.\n",
        "helpful_votes_df = total_votes_df.filter(\"helpful_votes/total_votes>=.50\")\n",
        "helpful_votes_df.show()"
      ],
      "metadata": {
        "colab": {
          "base_uri": "https://localhost:8080/"
        },
        "id": "b49a-CaJxrNl",
        "outputId": "8e1bace2-d88d-4ba4-9a27-388da385e9ff"
      },
      "execution_count": 8,
      "outputs": [
        {
          "output_type": "stream",
          "name": "stdout",
          "text": [
            "+-----------+-----------+--------------+----------+--------------+--------------------+------------------+-----------+-------------+-----------+----+-----------------+--------------------+--------------------+-----------+\n",
            "|marketplace|customer_id|     review_id|product_id|product_parent|       product_title|  product_category|star_rating|helpful_votes|total_votes|vine|verified_purchase|     review_headline|         review_body|review_date|\n",
            "+-----------+-----------+--------------+----------+--------------+--------------------+------------------+-----------+-------------+-----------+----+-----------------+--------------------+--------------------+-----------+\n",
            "|         US|   48701722| RBEMQ29WJBHYG|B00YO3UYXW|     913911909|Jensen MCR-100 Ca...|Mobile_Electronics|          5|          164|        168|   N|                Y|  I LOVE my recorder|I LOVE my recorde...| 2015-08-31|\n",
            "|         US|   25750755|R13W3EMIUV120L|B00YO3UYXW|     913911909|Jensen MCR-100 Ca...|Mobile_Electronics|          4|          288|        294|   N|                Y|The Jensen MCR-10...|I recently purcha...| 2015-08-28|\n",
            "|         US|   26155827|R30TJ8POYNVCRE|B00TQ0G130|       9677699|Coby ALL NEW 2.5\"...|Mobile_Electronics|          5|           15|         21|   N|                N|            dash cam|Great product, lo...| 2015-08-27|\n",
            "|         US|   29092404|R1LK03P7BCJEJD|B00YO3UYXW|     913911909|Jensen MCR-100 Ca...|Mobile_Electronics|          1|           31|         35|   N|                Y|            One Star|Playback is disto...| 2015-08-22|\n",
            "|         US|   33177916| RBXUICKGHL685|B00YO3UYXW|     913911909|Jensen MCR-100 Ca...|Mobile_Electronics|          1|           48|         52|   N|                N|Chewed up within ...|Terrible!!  Chewe...| 2015-08-21|\n",
            "|         US|   42331191|R2E16WLZKP78GO|B00TQYCU0Y|     328706129|Garmin nüvi 65LM ...|Mobile_Electronics|          5|           19|         21|   N|                Y|           Satisfied|Garmin nuvi 65lm ...| 2015-08-20|\n",
            "|         US|    3913139|R1EN4PGQIFSENW|B00LAG4HN4|     536367292|iXCC Element II L...|Mobile_Electronics|          5|           27|         28|   N|                Y|I've bought 4 of ...|So we've all had ...| 2015-08-10|\n",
            "|         US|   43755322| RXZWQU66AHIYG|B00TQYEONA|     376434637|Garmin dezl 760LM...|Mobile_Electronics|          5|           24|         25|   N|                Y|THE BEST UNIT I H...|Today 8/10/2015 w...| 2015-08-10|\n",
            "|         US|   45886406|R2IXCZCSUKH8FB|B00CJZLHN8|     869734493|Apple Ipod Nano 7...|Mobile_Electronics|          3|           78|         82|   N|                Y|Still limited to ...|As many other rev...| 2015-08-04|\n",
            "|         US|    3120094|R25RB38U9LL8OE|B010W4OF4K|     649814137|Escort Passport X...|Mobile_Electronics|          5|           24|         29|   N|                Y|best radar detect...|We have owned man...| 2015-08-04|\n",
            "|         US|   40159163| RSHPPH6BRXYRS|B00QMMBXA6|     827642739|Tomtom VIA 1515M ...|Mobile_Electronics|          2|           42|         48|   N|                N|     Not Recommended|This is my third ...| 2015-07-22|\n",
            "|         US|    6867529|R39HYCYEWFZP3B|B00Y2100OO|     161663398|LiteXim All in On...|Mobile_Electronics|          5|           36|         36|   N|                N|Awesome mp3/mp4 P...|[[VIDEOID:1a66cff...| 2015-07-22|\n",
            "|         US|   26362086|R2C68DIKTG0M7W|B00TQYCU0Y|     328706129|Garmin nüvi 65LM ...|Mobile_Electronics|          5|           18|         20|   N|                Y|      Love this GPS!|I have only used ...| 2015-07-20|\n",
            "|         US|   34123746|R2I6O4S2CZK8WQ|B00EDM5WV8|     998105706|SPOT-3O Spot Gen3...|Mobile_Electronics|          1|          175|        181|   N|                Y|Failed after firs...|I've had a spot t...| 2015-07-20|\n",
            "|         US|   18226253|R1EPU8R4MVRIQ7|B00XJJU4SC|     965917258|Juentai JT-6188 D...|Mobile_Electronics|          4|           21|         22|   N|                Y|Nice little dual ...|These are pretty ...| 2015-07-19|\n",
            "|         US|   48531577|R1AL1OVEHNX5JC|B010P73G76|     995824709|Phtronics 2015 La...|Mobile_Electronics|          5|           19|         22|   N|                Y|This is a great m...|This is a great m...| 2015-07-15|\n",
            "|         US|   10044506| RVE1FMV48N1ZD|B00VU7PKZW|     595921774|iXCC Element Seri...|Mobile_Electronics|          5|           37|         41|   N|                N|Good solid constr...|Quality product w...| 2015-07-14|\n",
            "|         US|   14080076| R6SR9BXDPIYMZ|B00TQYCU0Y|     328706129|Garmin nüvi 65LM ...|Mobile_Electronics|          5|           51|         57|   N|                Y|Fast delivery.  R...|This refurbed 6&#...| 2015-07-10|\n",
            "|         US|   28150579|R1JQPDB1WJ4CKV|B00OYVJLZQ|     312846790|Pioneer AVH-X7700...|Mobile_Electronics|          3|           25|         26|   N|                N|Basic MirrorLink ...|I would give this...| 2015-07-05|\n",
            "|         US|   47211331|R3L7LS0NW1L6PQ|B00J46XO9U|     744008282|iXCC Lightning Ca...|Mobile_Electronics|          5|           97|        101|   N|                Y|A less expensive ...|I use this cable ...| 2015-06-24|\n",
            "+-----------+-----------+--------------+----------+--------------+--------------------+------------------+-----------+-------------+-----------+----+-----------------+--------------------+--------------------+-----------+\n",
            "only showing top 20 rows\n",
            "\n"
          ]
        }
      ]
    },
    {
      "cell_type": "code",
      "source": [
        "#\n",
        "print(helpful_votes_df.count())"
      ],
      "metadata": {
        "colab": {
          "base_uri": "https://localhost:8080/"
        },
        "id": "lbzlkNdP5ZnZ",
        "outputId": "50d15d66-82a2-40cd-e671-7b0b3e4bb6aa"
      },
      "execution_count": 9,
      "outputs": [
        {
          "output_type": "stream",
          "name": "stdout",
          "text": [
            "1068\n"
          ]
        }
      ]
    },
    {
      "cell_type": "code",
      "source": [
        "vine_review_df = helpful_votes_df.filter(helpful_votes_df[\"vine\"] == \"Y\")\n",
        "vine_review_df.show()"
      ],
      "metadata": {
        "colab": {
          "base_uri": "https://localhost:8080/"
        },
        "id": "FGq6bNlC7ex9",
        "outputId": "5a1b5b02-2eb7-46fb-f379-46d890b64711"
      },
      "execution_count": 10,
      "outputs": [
        {
          "output_type": "stream",
          "name": "stdout",
          "text": [
            "+-----------+-----------+--------------+----------+--------------+--------------------+------------------+-----------+-------------+-----------+----+-----------------+--------------------+--------------------+-----------+\n",
            "|marketplace|customer_id|     review_id|product_id|product_parent|       product_title|  product_category|star_rating|helpful_votes|total_votes|vine|verified_purchase|     review_headline|         review_body|review_date|\n",
            "+-----------+-----------+--------------+----------+--------------+--------------------+------------------+-----------+-------------+-----------+----+-----------------+--------------------+--------------------+-----------+\n",
            "|         US|   52490988|R3BOQTLUU3Y4L8|B00EP0SIOG|     628459233|Orbotix Sphero 2....|Mobile_Electronics|          4|           42|         55|   Y|                N|Lot of fun, but f...|Before receiving ...| 2013-11-19|\n",
            "|         US|   48814959| RWF03LXVXC22A|B00EP0SIOG|     628459233|Orbotix Sphero 2....|Mobile_Electronics|          3|          396|        445|   Y|                N|The coolest thing...|***** Update 12/3...| 2013-11-06|\n",
            "|         US|   34641748| REPU28WG1VZUE|B00EP0SIOG|     628459233|Orbotix Sphero 2....|Mobile_Electronics|          5|          242|        281|   Y|                N|The funest new to...|...or at least I ...| 2013-10-24|\n",
            "|         US|   52477683|R1D6REC9HPJVQY|B00EP0SIOG|     628459233|Orbotix Sphero 2....|Mobile_Electronics|          4|           31|         41|   Y|                N|Fun toy for kids,...|This new version ...| 2013-10-21|\n",
            "+-----------+-----------+--------------+----------+--------------+--------------------+------------------+-----------+-------------+-----------+----+-----------------+--------------------+--------------------+-----------+\n",
            "\n"
          ]
        }
      ]
    },
    {
      "cell_type": "code",
      "source": [
        "no_vine_review_df = helpful_votes_df.filter(helpful_votes_df[\"vine\"] == \"N\")\n",
        "no_vine_review_df.show()"
      ],
      "metadata": {
        "colab": {
          "base_uri": "https://localhost:8080/"
        },
        "id": "v2q1ovFO8FE0",
        "outputId": "247a6c64-5d15-418c-a590-8ac2e4aa0311"
      },
      "execution_count": 11,
      "outputs": [
        {
          "output_type": "stream",
          "name": "stdout",
          "text": [
            "+-----------+-----------+--------------+----------+--------------+--------------------+------------------+-----------+-------------+-----------+----+-----------------+--------------------+--------------------+-----------+\n",
            "|marketplace|customer_id|     review_id|product_id|product_parent|       product_title|  product_category|star_rating|helpful_votes|total_votes|vine|verified_purchase|     review_headline|         review_body|review_date|\n",
            "+-----------+-----------+--------------+----------+--------------+--------------------+------------------+-----------+-------------+-----------+----+-----------------+--------------------+--------------------+-----------+\n",
            "|         US|   48701722| RBEMQ29WJBHYG|B00YO3UYXW|     913911909|Jensen MCR-100 Ca...|Mobile_Electronics|          5|          164|        168|   N|                Y|  I LOVE my recorder|I LOVE my recorde...| 2015-08-31|\n",
            "|         US|   25750755|R13W3EMIUV120L|B00YO3UYXW|     913911909|Jensen MCR-100 Ca...|Mobile_Electronics|          4|          288|        294|   N|                Y|The Jensen MCR-10...|I recently purcha...| 2015-08-28|\n",
            "|         US|   26155827|R30TJ8POYNVCRE|B00TQ0G130|       9677699|Coby ALL NEW 2.5\"...|Mobile_Electronics|          5|           15|         21|   N|                N|            dash cam|Great product, lo...| 2015-08-27|\n",
            "|         US|   29092404|R1LK03P7BCJEJD|B00YO3UYXW|     913911909|Jensen MCR-100 Ca...|Mobile_Electronics|          1|           31|         35|   N|                Y|            One Star|Playback is disto...| 2015-08-22|\n",
            "|         US|   33177916| RBXUICKGHL685|B00YO3UYXW|     913911909|Jensen MCR-100 Ca...|Mobile_Electronics|          1|           48|         52|   N|                N|Chewed up within ...|Terrible!!  Chewe...| 2015-08-21|\n",
            "|         US|   42331191|R2E16WLZKP78GO|B00TQYCU0Y|     328706129|Garmin nüvi 65LM ...|Mobile_Electronics|          5|           19|         21|   N|                Y|           Satisfied|Garmin nuvi 65lm ...| 2015-08-20|\n",
            "|         US|    3913139|R1EN4PGQIFSENW|B00LAG4HN4|     536367292|iXCC Element II L...|Mobile_Electronics|          5|           27|         28|   N|                Y|I've bought 4 of ...|So we've all had ...| 2015-08-10|\n",
            "|         US|   43755322| RXZWQU66AHIYG|B00TQYEONA|     376434637|Garmin dezl 760LM...|Mobile_Electronics|          5|           24|         25|   N|                Y|THE BEST UNIT I H...|Today 8/10/2015 w...| 2015-08-10|\n",
            "|         US|   45886406|R2IXCZCSUKH8FB|B00CJZLHN8|     869734493|Apple Ipod Nano 7...|Mobile_Electronics|          3|           78|         82|   N|                Y|Still limited to ...|As many other rev...| 2015-08-04|\n",
            "|         US|    3120094|R25RB38U9LL8OE|B010W4OF4K|     649814137|Escort Passport X...|Mobile_Electronics|          5|           24|         29|   N|                Y|best radar detect...|We have owned man...| 2015-08-04|\n",
            "|         US|   40159163| RSHPPH6BRXYRS|B00QMMBXA6|     827642739|Tomtom VIA 1515M ...|Mobile_Electronics|          2|           42|         48|   N|                N|     Not Recommended|This is my third ...| 2015-07-22|\n",
            "|         US|    6867529|R39HYCYEWFZP3B|B00Y2100OO|     161663398|LiteXim All in On...|Mobile_Electronics|          5|           36|         36|   N|                N|Awesome mp3/mp4 P...|[[VIDEOID:1a66cff...| 2015-07-22|\n",
            "|         US|   26362086|R2C68DIKTG0M7W|B00TQYCU0Y|     328706129|Garmin nüvi 65LM ...|Mobile_Electronics|          5|           18|         20|   N|                Y|      Love this GPS!|I have only used ...| 2015-07-20|\n",
            "|         US|   34123746|R2I6O4S2CZK8WQ|B00EDM5WV8|     998105706|SPOT-3O Spot Gen3...|Mobile_Electronics|          1|          175|        181|   N|                Y|Failed after firs...|I've had a spot t...| 2015-07-20|\n",
            "|         US|   18226253|R1EPU8R4MVRIQ7|B00XJJU4SC|     965917258|Juentai JT-6188 D...|Mobile_Electronics|          4|           21|         22|   N|                Y|Nice little dual ...|These are pretty ...| 2015-07-19|\n",
            "|         US|   48531577|R1AL1OVEHNX5JC|B010P73G76|     995824709|Phtronics 2015 La...|Mobile_Electronics|          5|           19|         22|   N|                Y|This is a great m...|This is a great m...| 2015-07-15|\n",
            "|         US|   10044506| RVE1FMV48N1ZD|B00VU7PKZW|     595921774|iXCC Element Seri...|Mobile_Electronics|          5|           37|         41|   N|                N|Good solid constr...|Quality product w...| 2015-07-14|\n",
            "|         US|   14080076| R6SR9BXDPIYMZ|B00TQYCU0Y|     328706129|Garmin nüvi 65LM ...|Mobile_Electronics|          5|           51|         57|   N|                Y|Fast delivery.  R...|This refurbed 6&#...| 2015-07-10|\n",
            "|         US|   28150579|R1JQPDB1WJ4CKV|B00OYVJLZQ|     312846790|Pioneer AVH-X7700...|Mobile_Electronics|          3|           25|         26|   N|                N|Basic MirrorLink ...|I would give this...| 2015-07-05|\n",
            "|         US|   47211331|R3L7LS0NW1L6PQ|B00J46XO9U|     744008282|iXCC Lightning Ca...|Mobile_Electronics|          5|           97|        101|   N|                Y|A less expensive ...|I use this cable ...| 2015-06-24|\n",
            "+-----------+-----------+--------------+----------+--------------+--------------------+------------------+-----------+-------------+-----------+----+-----------------+--------------------+--------------------+-----------+\n",
            "only showing top 20 rows\n",
            "\n"
          ]
        }
      ]
    },
    {
      "cell_type": "code",
      "source": [
        "from pyspark.sql.functions import count\n",
        "\n",
        "#5-1\n",
        "#Total number of reviews for each df\n",
        "vine_review_count = vine_review_df.count()\n",
        "print(\"Total Number of Reviews paid/ 'helpful': %f\" % vine_review_count)\n",
        "\n",
        "no_vine_review_count = no_vine_review_df.count()\n",
        "print(\"Total Number of Reviews non-paid/ 'helpful': %f\" % no_vine_review_count)\n"
      ],
      "metadata": {
        "colab": {
          "base_uri": "https://localhost:8080/"
        },
        "id": "YJZWMLvL85TY",
        "outputId": "6d12a587-c968-4a86-da3e-08ae41c96af0"
      },
      "execution_count": 12,
      "outputs": [
        {
          "output_type": "stream",
          "name": "stdout",
          "text": [
            "Total Number of Reviews paid/ 'helpful': 4.000000\n",
            "Total Number of Reviews non-paid/ 'helpful': 1064.000000\n"
          ]
        }
      ]
    },
    {
      "cell_type": "code",
      "source": [
        "#5-2\n",
        "#Number of 5star reviews for above paid and non paid df's\n",
        "five_star_vine_df = vine_review_df.filter(no_vine_review_df[\"star_rating\"]==\"5\")\n",
        "print(\"Total Number of 5 star reviews paid/ 'helpful': %f\" % five_star_vine_df.count())\n",
        "\n",
        "five_star_novine_df = no_vine_review_df.filter(no_vine_review_df[\"star_rating\"]==\"5\")\n",
        "print(\"Total Number of 5 star reviews nonpaid/ 'helpful': %f\" % five_star_novine_df.count())\n"
      ],
      "metadata": {
        "colab": {
          "base_uri": "https://localhost:8080/"
        },
        "id": "HHFnh68-_Up_",
        "outputId": "4418b4ed-ea8c-44e6-acb0-66c9f704dd7b"
      },
      "execution_count": 13,
      "outputs": [
        {
          "output_type": "stream",
          "name": "stdout",
          "text": [
            "Total Number of 5 star reviews paid/ 'helpful': 1.000000\n",
            "Total Number of 5 star reviews nonpaid/ 'helpful': 527.000000\n"
          ]
        }
      ]
    },
    {
      "cell_type": "code",
      "source": [
        "#5-3\n",
        "#Percentage of 5 star reviews for paid / nonpaid dfs\n",
        "five_star_rev = (five_star_vine_df.count()/vine_review_count)\n",
        "print(\"Percent of 5 star app reviews from paid/, 'helpful' dataset: %f\" % five_star_rev)\n",
        "\n",
        "five_star_rev_no_vine = (five_star_novine_df.count()/no_vine_review_count)\n",
        "print(\"Percent of 5 star app reviews from nonpaid/, 'helpful' dataset: %f\" % five_star_rev_no_vine)"
      ],
      "metadata": {
        "colab": {
          "base_uri": "https://localhost:8080/"
        },
        "id": "-3PXKrggCZDm",
        "outputId": "81d46d88-f35a-47c2-f578-61aaeeefc054"
      },
      "execution_count": 14,
      "outputs": [
        {
          "output_type": "stream",
          "name": "stdout",
          "text": [
            "Percent of 5 star app reviews from paid/, 'helpful' dataset: 0.250000\n",
            "Percent of 5 star app reviews from nonpaid/, 'helpful' dataset: 0.495301\n"
          ]
        }
      ]
    },
    {
      "cell_type": "code",
      "source": [
        "#Total number of all reviews\n",
        "total_reviews_count = mobile_app_df.count()\n",
        "print(\"Total number of app reviews: %f\" % total_reviews_count)\n",
        "\n",
        "#Total number of all 'helpful' reviews\n",
        "help_reviews_count = helpful_votes_df.count()\n",
        "print(\"Total number of 'helpful' reviews: %f\" % help_reviews_count)"
      ],
      "metadata": {
        "colab": {
          "base_uri": "https://localhost:8080/"
        },
        "id": "AUrvgjEaHw9N",
        "outputId": "319841da-10ba-4bfb-b21e-3a01473ae2f7"
      },
      "execution_count": 15,
      "outputs": [
        {
          "output_type": "stream",
          "name": "stdout",
          "text": [
            "Total number of app reviews: 104975.000000\n",
            "Total number of 'helpful' reviews: 1068.000000\n"
          ]
        }
      ]
    },
    {
      "cell_type": "code",
      "source": [
        "#Total number of all five star reviews\n",
        "five_star_df = mobile_app_df.filter(mobile_app_df[\"star_rating\"] =='5')\n",
        "#five_star_df.show()\n",
        "\n",
        "five_star_count = five_star_df.count()\n",
        "print(\"Total number of five star app reviews: %f\" % five_star_count)"
      ],
      "metadata": {
        "colab": {
          "base_uri": "https://localhost:8080/"
        },
        "id": "ZNOraY5sLIES",
        "outputId": "df294b18-063a-459a-c9fe-ca2515a98462"
      },
      "execution_count": 24,
      "outputs": [
        {
          "output_type": "stream",
          "name": "stdout",
          "text": [
            "Total number of five star app reviews: 52255.000000\n"
          ]
        }
      ]
    },
    {
      "cell_type": "code",
      "source": [
        "#Total number of five star helpful reviews\n",
        "#5-4\n",
        "five_star_helpful_df = helpful_votes_df.filter(helpful_votes_df[\"star_rating\"]== '5')\n",
        "#five_star_helpful_df.show()"
      ],
      "metadata": {
        "id": "uW1iLT87ORYG"
      },
      "execution_count": 25,
      "outputs": []
    },
    {
      "cell_type": "code",
      "source": [
        "five_star_helpful_count = five_star_helpful_df.count()\n",
        "print(\"Total number of five star 'helpful' app reviews: %f\" % five_star_helpful_count)"
      ],
      "metadata": {
        "colab": {
          "base_uri": "https://localhost:8080/"
        },
        "id": "qQu9w9GxPFjO",
        "outputId": "ec3d6faa-4e52-4502-e559-cde2f5bcd2f8"
      },
      "execution_count": 18,
      "outputs": [
        {
          "output_type": "stream",
          "name": "stdout",
          "text": [
            "Total number of five star 'helpful' app reviews: 528.000000\n"
          ]
        }
      ]
    },
    {
      "cell_type": "code",
      "source": [
        "five_star_vine_all_df = five_star_df.filter(five_star_df[\"vine\"] == \"Y\")\n",
        "five_star_vine_all_count = five_star_vine_all_df.count()\n",
        "#vine_five_star_df.show()"
      ],
      "metadata": {
        "id": "ZpJna7wVz31q"
      },
      "execution_count": 19,
      "outputs": []
    },
    {
      "cell_type": "code",
      "source": [
        "five_star_vine_all_pct = (five_star_vine_all_count/five_star_count)\n",
        "print(\"Number of five star reviews : %f\" % five_star_vine_all_count)\n",
        "print(\"Percent of five star reviews : %f\" % five_star_vine_all_pct)"
      ],
      "metadata": {
        "colab": {
          "base_uri": "https://localhost:8080/"
        },
        "id": "-edQh-_m5zEr",
        "outputId": "0ee868cf-3bdd-40e2-f63e-70a20eef4b18"
      },
      "execution_count": 20,
      "outputs": [
        {
          "output_type": "stream",
          "name": "stdout",
          "text": [
            "Number of five star reviews : 6.000000\n",
            "Percent of five star reviews : 0.000115\n"
          ]
        }
      ]
    },
    {
      "cell_type": "code",
      "source": [
        "#Five star nonpaid reviews\n",
        "five_star_no_vine_df = five_star_df.filter(five_star_df[\"vine\"] == \"N\")\n",
        "five_star_no_vine_count = five_star_no_vine_df.count()"
      ],
      "metadata": {
        "id": "pIOfZLOhGztC"
      },
      "execution_count": 21,
      "outputs": []
    },
    {
      "cell_type": "code",
      "source": [
        "five_star_no_vine_all_pct = five_star_no_vine_count/ five_star_count\n",
        "print(\"Number of five star reviews 'nonpaid' : %f\" % five_star_no_vine_count)\n",
        "print(\"Percent of five star reviews 'nonpaid' : %f\" % five_star_no_vine_all_pct)"
      ],
      "metadata": {
        "colab": {
          "base_uri": "https://localhost:8080/"
        },
        "id": "c2imhoaCI_iN",
        "outputId": "248d96b8-bc58-42b9-f007-5f9a432572e8"
      },
      "execution_count": 22,
      "outputs": [
        {
          "output_type": "stream",
          "name": "stdout",
          "text": [
            "Number of five star reviews 'non' : 52249.000000\n",
            "Percent of five star reviews 'non' : 0.999885\n"
          ]
        }
      ]
    },
    {
      "cell_type": "code",
      "source": [
        "#percent of helpful five star reviews\n",
        "vine_five_star_helpful_df = five_star_helpful_df.filter(five_star_helpful_df[\"vine\"] ==\"Y\")\n",
        "vine_five_star_helpful_count = vine_five_star_helpful_df.count()\n",
        "\n",
        "vine_five_star_pct = (vine_five_star_helpful_count/ five_star_helpful_count)\n",
        "print(\"Number of five star, 'helpful' app reviews : %f\" % vine_five_star_helpful_count)\n",
        "print(\"Percent of five star, 'helpful' app reviews : %f\" % vine_five_star_pct)"
      ],
      "metadata": {
        "colab": {
          "base_uri": "https://localhost:8080/"
        },
        "id": "fjXBLnpU7aws",
        "outputId": "d0f65009-0629-4f06-97c9-b3cbb75a3b8b"
      },
      "execution_count": 23,
      "outputs": [
        {
          "output_type": "stream",
          "name": "stdout",
          "text": [
            "Number of five star, 'helpful' app reviews : 1.000000\n",
            "Percent of five star, 'helpful' app reviews : 0.001894\n"
          ]
        }
      ]
    }
  ]
}